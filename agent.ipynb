{
 "cells": [
  {
   "cell_type": "code",
   "execution_count": 2,
   "id": "8d122fee",
   "metadata": {},
   "outputs": [],
   "source": [
    "from dotenv import load_dotenv\n",
    "_ = load_dotenv()\n",
    "from crewai import Crew, Process, Agent, Task"
   ]
  },
  {
   "cell_type": "code",
   "execution_count": 4,
   "id": "bef1253c",
   "metadata": {},
   "outputs": [],
   "source": [
    "planejador_de_estudo = Agent(\n",
    "    role=\"Planejador de estudos\",\n",
    "    goal=\"Identifica, planejar e organizar a melhor estratégia para passar no concuros do Ministério Público de Sergipe, cargo Tecnico Administrativo.\",\n",
    "    backstory=\"\"\"\n",
    "    Você é um renomado especialista em orientar concurseiro a passar em concurso, \n",
    "    com as técnicas mais brilhantes e inteligentes. Seu objetivo é mostrar o caminho ótimo\n",
    "    para a aprovação em concurso público, onde o candidato tenha pouco tempo até a prova.\n",
    "    \"\"\",\n",
    "    verbose=True\n",
    ")"
   ]
  },
  {
   "cell_type": "code",
   "execution_count": 6,
   "id": "fd98fab1",
   "metadata": {},
   "outputs": [],
   "source": [
    "orcamentista = Agent(\n",
    "    role=\"Orçamentista\",\n",
    "    goal=\"Estimar quanto gastarei com o planejamento e execução do plano de estudo.\",\n",
    "    backstory=\"Você conhece o mundo dos concursos público, então deverá criar estimativas de custo.\"\n",
    ")"
   ]
  },
  {
   "cell_type": "code",
   "execution_count": 7,
   "id": "b4a0284b",
   "metadata": {},
   "outputs": [],
   "source": [
    "planeja_estudo = Task(\n",
    "    description=\"\"\"Crie uma estratégia de estudo para que o candidato seja \n",
    "    aprovado no concuros do Ministério Público de Sergipe no cargo de técnico \n",
    "    administrativo. Importante destacar que o ocupante do cargo de técnico \n",
    "    administrativo fará o serviço de analista de direito.\"\"\",\n",
    "    agent=planejador_de_estudo,\n",
    "    expected_output=\"\"\"\n",
    "    Instruções de como passar no concurso.\n",
    "    \"\"\"\n",
    ")"
   ]
  },
  {
   "cell_type": "code",
   "execution_count": 9,
   "id": "046b55dd",
   "metadata": {},
   "outputs": [],
   "source": [
    "planeja_orçamento = Task(\n",
    "    description=\"\"\"Calcula o custo para passar no concurso\"\"\",\n",
    "    agent=orcamentista,\n",
    "    expected_output=\"\"\"\n",
    "    Estimativa de custo passar no concurso.\n",
    "    \"\"\"\n",
    ")"
   ]
  },
  {
   "cell_type": "code",
   "execution_count": 11,
   "id": "e4f64879",
   "metadata": {},
   "outputs": [],
   "source": [
    "concurso_crew = Crew(\n",
    "    agents=[planejador_de_estudo,orcamentista],\n",
    "    tasks=[planeja_estudo, planeja_orçamento],\n",
    "    process=Process.sequential\n",
    ")"
   ]
  },
  {
   "cell_type": "code",
   "execution_count": 12,
   "id": "03b63033",
   "metadata": {},
   "outputs": [
    {
     "data": {
      "text/html": [
       "<pre style=\"white-space:pre;overflow-x:auto;line-height:normal;font-family:Menlo,'DejaVu Sans Mono',consolas,'Courier New',monospace\"><span style=\"color: #800080; text-decoration-color: #800080\">╭─────────────────────────────────────────────── 🤖 Agent Started ────────────────────────────────────────────────╮</span>\n",
       "<span style=\"color: #800080; text-decoration-color: #800080\">│</span>                                                                                                                 <span style=\"color: #800080; text-decoration-color: #800080\">│</span>\n",
       "<span style=\"color: #800080; text-decoration-color: #800080\">│</span>  <span style=\"color: #c0c0c0; text-decoration-color: #c0c0c0\">Agent: </span><span style=\"color: #00ff00; text-decoration-color: #00ff00; font-weight: bold\">Planejador de estudos</span>                                                                                   <span style=\"color: #800080; text-decoration-color: #800080\">│</span>\n",
       "<span style=\"color: #800080; text-decoration-color: #800080\">│</span>                                                                                                                 <span style=\"color: #800080; text-decoration-color: #800080\">│</span>\n",
       "<span style=\"color: #800080; text-decoration-color: #800080\">│</span>  <span style=\"color: #c0c0c0; text-decoration-color: #c0c0c0\">Task: </span><span style=\"color: #00ff00; text-decoration-color: #00ff00\">Crie uma estratégia de estudo para que o candidato seja </span>                                                 <span style=\"color: #800080; text-decoration-color: #800080\">│</span>\n",
       "<span style=\"color: #800080; text-decoration-color: #800080\">│</span>  <span style=\"color: #00ff00; text-decoration-color: #00ff00\">    aprovado no concuros do Ministério Público de Sergipe no cargo de técnico </span>                                 <span style=\"color: #800080; text-decoration-color: #800080\">│</span>\n",
       "<span style=\"color: #800080; text-decoration-color: #800080\">│</span>  <span style=\"color: #00ff00; text-decoration-color: #00ff00\">    administrativo. Importante destacar que o ocupante do cargo de técnico </span>                                    <span style=\"color: #800080; text-decoration-color: #800080\">│</span>\n",
       "<span style=\"color: #800080; text-decoration-color: #800080\">│</span>  <span style=\"color: #00ff00; text-decoration-color: #00ff00\">    administrativo fará o serviço de analista de direito.</span>                                                      <span style=\"color: #800080; text-decoration-color: #800080\">│</span>\n",
       "<span style=\"color: #800080; text-decoration-color: #800080\">│</span>                                                                                                                 <span style=\"color: #800080; text-decoration-color: #800080\">│</span>\n",
       "<span style=\"color: #800080; text-decoration-color: #800080\">╰─────────────────────────────────────────────────────────────────────────────────────────────────────────────────╯</span>\n",
       "</pre>\n"
      ],
      "text/plain": [
       "\u001b[35m╭─\u001b[0m\u001b[35m──────────────────────────────────────────────\u001b[0m\u001b[35m 🤖 Agent Started \u001b[0m\u001b[35m───────────────────────────────────────────────\u001b[0m\u001b[35m─╮\u001b[0m\n",
       "\u001b[35m│\u001b[0m                                                                                                                 \u001b[35m│\u001b[0m\n",
       "\u001b[35m│\u001b[0m  \u001b[37mAgent: \u001b[0m\u001b[1;92mPlanejador de estudos\u001b[0m                                                                                   \u001b[35m│\u001b[0m\n",
       "\u001b[35m│\u001b[0m                                                                                                                 \u001b[35m│\u001b[0m\n",
       "\u001b[35m│\u001b[0m  \u001b[37mTask: \u001b[0m\u001b[92mCrie uma estratégia de estudo para que o candidato seja \u001b[0m                                                 \u001b[35m│\u001b[0m\n",
       "\u001b[35m│\u001b[0m  \u001b[92m    aprovado no concuros do Ministério Público de Sergipe no cargo de técnico \u001b[0m                                 \u001b[35m│\u001b[0m\n",
       "\u001b[35m│\u001b[0m  \u001b[92m    administrativo. Importante destacar que o ocupante do cargo de técnico \u001b[0m                                    \u001b[35m│\u001b[0m\n",
       "\u001b[35m│\u001b[0m  \u001b[92m    administrativo fará o serviço de analista de direito.\u001b[0m                                                      \u001b[35m│\u001b[0m\n",
       "\u001b[35m│\u001b[0m                                                                                                                 \u001b[35m│\u001b[0m\n",
       "\u001b[35m╰─────────────────────────────────────────────────────────────────────────────────────────────────────────────────╯\u001b[0m\n"
      ]
     },
     "metadata": {},
     "output_type": "display_data"
    },
    {
     "data": {
      "text/html": [
       "<pre style=\"white-space:pre;overflow-x:auto;line-height:normal;font-family:Menlo,'DejaVu Sans Mono',consolas,'Courier New',monospace\">\n",
       "</pre>\n"
      ],
      "text/plain": [
       "\n"
      ]
     },
     "metadata": {},
     "output_type": "display_data"
    },
    {
     "data": {
      "text/html": [
       "<pre style=\"white-space:pre;overflow-x:auto;line-height:normal;font-family:Menlo,'DejaVu Sans Mono',consolas,'Courier New',monospace\"><span style=\"color: #008000; text-decoration-color: #008000\">╭───────────────────────────────────────────── ✅ Agent Final Answer ─────────────────────────────────────────────╮</span>\n",
       "<span style=\"color: #008000; text-decoration-color: #008000\">│</span>                                                                                                                 <span style=\"color: #008000; text-decoration-color: #008000\">│</span>\n",
       "<span style=\"color: #008000; text-decoration-color: #008000\">│</span>  <span style=\"color: #c0c0c0; text-decoration-color: #c0c0c0\">Agent: </span><span style=\"color: #00ff00; text-decoration-color: #00ff00; font-weight: bold\">Planejador de estudos</span>                                                                                   <span style=\"color: #008000; text-decoration-color: #008000\">│</span>\n",
       "<span style=\"color: #008000; text-decoration-color: #008000\">│</span>                                                                                                                 <span style=\"color: #008000; text-decoration-color: #008000\">│</span>\n",
       "<span style=\"color: #008000; text-decoration-color: #008000\">│</span>  <span style=\"color: #c0c0c0; text-decoration-color: #c0c0c0\">Final Answer:</span>                                                                                                  <span style=\"color: #008000; text-decoration-color: #008000\">│</span>\n",
       "<span style=\"color: #008000; text-decoration-color: #008000\">│</span>  <span style=\"color: #00ff00; text-decoration-color: #00ff00\">**Estratégia de Estudo para Concurso do Ministério Público de Sergipe - Cargo de Técnico Administrativo**</span>      <span style=\"color: #008000; text-decoration-color: #008000\">│</span>\n",
       "<span style=\"color: #008000; text-decoration-color: #008000\">│</span>                                                                                                                 <span style=\"color: #008000; text-decoration-color: #008000\">│</span>\n",
       "<span style=\"color: #008000; text-decoration-color: #008000\">│</span>  <span style=\"color: #00ff00; text-decoration-color: #00ff00\">**1. Entenda o Edital**  </span>                                                                                      <span style=\"color: #008000; text-decoration-color: #008000\">│</span>\n",
       "<span style=\"color: #008000; text-decoration-color: #008000\">│</span>  <span style=\"color: #00ff00; text-decoration-color: #00ff00\">   - **Leia com Atenção**: O primeiro passo é ler o edital com atenção. Anote todos os detalhes sobre as </span>      <span style=\"color: #008000; text-decoration-color: #008000\">│</span>\n",
       "<span style=\"color: #008000; text-decoration-color: #008000\">│</span>  <span style=\"color: #00ff00; text-decoration-color: #00ff00\">matérias que serão cobradas, o número de questões, o formato da prova e o cronograma.  </span>                        <span style=\"color: #008000; text-decoration-color: #008000\">│</span>\n",
       "<span style=\"color: #008000; text-decoration-color: #008000\">│</span>  <span style=\"color: #00ff00; text-decoration-color: #00ff00\">   - **Requisitos do Cargo**: O cargo de Técnico Administrativo exige habilidades que envolvem tanto a parte </span>  <span style=\"color: #008000; text-decoration-color: #008000\">│</span>\n",
       "<span style=\"color: #008000; text-decoration-color: #008000\">│</span>  <span style=\"color: #00ff00; text-decoration-color: #00ff00\">administrativa quanto conhecimentos de direito, uma vez que as funções incluem serviços de analista de </span>        <span style=\"color: #008000; text-decoration-color: #008000\">│</span>\n",
       "<span style=\"color: #008000; text-decoration-color: #008000\">│</span>  <span style=\"color: #00ff00; text-decoration-color: #00ff00\">direito.</span>                                                                                                       <span style=\"color: #008000; text-decoration-color: #008000\">│</span>\n",
       "<span style=\"color: #008000; text-decoration-color: #008000\">│</span>                                                                                                                 <span style=\"color: #008000; text-decoration-color: #008000\">│</span>\n",
       "<span style=\"color: #008000; text-decoration-color: #008000\">│</span>  <span style=\"color: #00ff00; text-decoration-color: #00ff00\">**2. Planejamento Geral**  </span>                                                                                    <span style=\"color: #008000; text-decoration-color: #008000\">│</span>\n",
       "<span style=\"color: #008000; text-decoration-color: #008000\">│</span>  <span style=\"color: #00ff00; text-decoration-color: #00ff00\">   - **Defina um Cronograma**: Com base na data da prova, elabore um cronograma de estudos que abranja todas </span>  <span style=\"color: #008000; text-decoration-color: #008000\">│</span>\n",
       "<span style=\"color: #008000; text-decoration-color: #008000\">│</span>  <span style=\"color: #00ff00; text-decoration-color: #00ff00\">as disciplinas. Divida seu tempo de estudo em blocos de 2 a 3 horas, com intervalos de 15 a 30 minutos entre </span>  <span style=\"color: #008000; text-decoration-color: #008000\">│</span>\n",
       "<span style=\"color: #008000; text-decoration-color: #008000\">│</span>  <span style=\"color: #00ff00; text-decoration-color: #00ff00\">eles.  </span>                                                                                                        <span style=\"color: #008000; text-decoration-color: #008000\">│</span>\n",
       "<span style=\"color: #008000; text-decoration-color: #008000\">│</span>  <span style=\"color: #00ff00; text-decoration-color: #00ff00\">   - **Estudo Diário**: Reserve de 4 a 6 horas por dia para estudo efetivo, se possível. Se você estiver </span>      <span style=\"color: #008000; text-decoration-color: #008000\">│</span>\n",
       "<span style=\"color: #008000; text-decoration-color: #008000\">│</span>  <span style=\"color: #00ff00; text-decoration-color: #00ff00\">trabalhando ou estudando em paralelo, ajuste o tempo de acordo.</span>                                                <span style=\"color: #008000; text-decoration-color: #008000\">│</span>\n",
       "<span style=\"color: #008000; text-decoration-color: #008000\">│</span>                                                                                                                 <span style=\"color: #008000; text-decoration-color: #008000\">│</span>\n",
       "<span style=\"color: #008000; text-decoration-color: #008000\">│</span>  <span style=\"color: #00ff00; text-decoration-color: #00ff00\">**3. Materiais de Estudo**  </span>                                                                                   <span style=\"color: #008000; text-decoration-color: #008000\">│</span>\n",
       "<span style=\"color: #008000; text-decoration-color: #008000\">│</span>  <span style=\"color: #00ff00; text-decoration-color: #00ff00\">   - **Livros e Apostilas**: Prefira materiais atualizados e específicos para o concurso do Ministério </span>        <span style=\"color: #008000; text-decoration-color: #008000\">│</span>\n",
       "<span style=\"color: #008000; text-decoration-color: #008000\">│</span>  <span style=\"color: #00ff00; text-decoration-color: #00ff00\">Público. Apostilas também podem ser úteis, principalmente aquelas que trazem questões comentadas.  </span>            <span style=\"color: #008000; text-decoration-color: #008000\">│</span>\n",
       "<span style=\"color: #008000; text-decoration-color: #008000\">│</span>  <span style=\"color: #00ff00; text-decoration-color: #00ff00\">   - **Videoaulas**: Utilize plataformas de ensino para videoaulas sobre direito administrativo, direito </span>      <span style=\"color: #008000; text-decoration-color: #008000\">│</span>\n",
       "<span style=\"color: #008000; text-decoration-color: #008000\">│</span>  <span style=\"color: #00ff00; text-decoration-color: #00ff00\">constitucional e outras disciplinas necessárias.  </span>                                                             <span style=\"color: #008000; text-decoration-color: #008000\">│</span>\n",
       "<span style=\"color: #008000; text-decoration-color: #008000\">│</span>  <span style=\"color: #00ff00; text-decoration-color: #00ff00\">   - **Questões Anteriores**: Resolva questões de provas anteriores do Ministério Público e de outros </span>         <span style=\"color: #008000; text-decoration-color: #008000\">│</span>\n",
       "<span style=\"color: #008000; text-decoration-color: #008000\">│</span>  <span style=\"color: #00ff00; text-decoration-color: #00ff00\">concursos públicos na área administrativa. Isso ajudará a familiarizar-se com o estilo das questões.</span>           <span style=\"color: #008000; text-decoration-color: #008000\">│</span>\n",
       "<span style=\"color: #008000; text-decoration-color: #008000\">│</span>                                                                                                                 <span style=\"color: #008000; text-decoration-color: #008000\">│</span>\n",
       "<span style=\"color: #008000; text-decoration-color: #008000\">│</span>  <span style=\"color: #00ff00; text-decoration-color: #00ff00\">**4. Disciplinas a Estudar**  </span>                                                                                 <span style=\"color: #008000; text-decoration-color: #008000\">│</span>\n",
       "<span style=\"color: #008000; text-decoration-color: #008000\">│</span>  <span style=\"color: #00ff00; text-decoration-color: #00ff00\">   - **Direito Administrativo e Constitucional**: Estas serão as disciplinas de maior peso. Foque em </span>          <span style=\"color: #008000; text-decoration-color: #008000\">│</span>\n",
       "<span style=\"color: #008000; text-decoration-color: #008000\">│</span>  <span style=\"color: #00ff00; text-decoration-color: #00ff00\">conceitos básicos, jurisprudência e princípios fundamentais.  </span>                                                 <span style=\"color: #008000; text-decoration-color: #008000\">│</span>\n",
       "<span style=\"color: #008000; text-decoration-color: #008000\">│</span>  <span style=\"color: #00ff00; text-decoration-color: #00ff00\">   - **Noções de Português**: Treine gramática, interpretação de texto e redação, pois a prova provavelmente </span>  <span style=\"color: #008000; text-decoration-color: #008000\">│</span>\n",
       "<span style=\"color: #008000; text-decoration-color: #008000\">│</span>  <span style=\"color: #00ff00; text-decoration-color: #00ff00\">incluirá questões de português.  </span>                                                                              <span style=\"color: #008000; text-decoration-color: #008000\">│</span>\n",
       "<span style=\"color: #008000; text-decoration-color: #008000\">│</span>  <span style=\"color: #00ff00; text-decoration-color: #00ff00\">   - **Raciocínio Lógico e Matemática**: Pratique problemas de lógica, análise de gráficos e tabelas, além de</span>  <span style=\"color: #008000; text-decoration-color: #008000\">│</span>\n",
       "<span style=\"color: #008000; text-decoration-color: #008000\">│</span>  <span style=\"color: #00ff00; text-decoration-color: #00ff00\">assuntos básicos de matemática.  </span>                                                                              <span style=\"color: #008000; text-decoration-color: #008000\">│</span>\n",
       "<span style=\"color: #008000; text-decoration-color: #008000\">│</span>  <span style=\"color: #00ff00; text-decoration-color: #00ff00\">   - **Atualidades**: Esteja sempre atualizado com as notícias recentes, especialmente nas áreas </span>              <span style=\"color: #008000; text-decoration-color: #008000\">│</span>\n",
       "<span style=\"color: #008000; text-decoration-color: #008000\">│</span>  <span style=\"color: #00ff00; text-decoration-color: #00ff00\">político-administrativas do Brasil.</span>                                                                            <span style=\"color: #008000; text-decoration-color: #008000\">│</span>\n",
       "<span style=\"color: #008000; text-decoration-color: #008000\">│</span>                                                                                                                 <span style=\"color: #008000; text-decoration-color: #008000\">│</span>\n",
       "<span style=\"color: #008000; text-decoration-color: #008000\">│</span>  <span style=\"color: #00ff00; text-decoration-color: #00ff00\">**5. Técnicas de Estudo**  </span>                                                                                    <span style=\"color: #008000; text-decoration-color: #008000\">│</span>\n",
       "<span style=\"color: #008000; text-decoration-color: #008000\">│</span>  <span style=\"color: #00ff00; text-decoration-color: #00ff00\">   - **Resumos e Mapas Mentais**: Faça resumos das matérias estudadas e crie mapas mentais para facilitar a </span>   <span style=\"color: #008000; text-decoration-color: #008000\">│</span>\n",
       "<span style=\"color: #008000; text-decoration-color: #008000\">│</span>  <span style=\"color: #00ff00; text-decoration-color: #00ff00\">memorização dos conteúdos.   </span>                                                                                  <span style=\"color: #008000; text-decoration-color: #008000\">│</span>\n",
       "<span style=\"color: #008000; text-decoration-color: #008000\">│</span>  <span style=\"color: #00ff00; text-decoration-color: #00ff00\">   - **Simulados**: Realize simulados semanais para testar seu conhecimento e ajustar seu foco de estudo.  </span>    <span style=\"color: #008000; text-decoration-color: #008000\">│</span>\n",
       "<span style=\"color: #008000; text-decoration-color: #008000\">│</span>  <span style=\"color: #00ff00; text-decoration-color: #00ff00\">   - **Grupos de Estudo**: Se possível, participe de grupos de estudo para discutir dificuldades e trocar </span>     <span style=\"color: #008000; text-decoration-color: #008000\">│</span>\n",
       "<span style=\"color: #008000; text-decoration-color: #008000\">│</span>  <span style=\"color: #00ff00; text-decoration-color: #00ff00\">conhecimento, isso pode agregar muito no seu aprendizado.</span>                                                      <span style=\"color: #008000; text-decoration-color: #008000\">│</span>\n",
       "<span style=\"color: #008000; text-decoration-color: #008000\">│</span>                                                                                                                 <span style=\"color: #008000; text-decoration-color: #008000\">│</span>\n",
       "<span style=\"color: #008000; text-decoration-color: #008000\">│</span>  <span style=\"color: #00ff00; text-decoration-color: #00ff00\">**6. Revisão**  </span>                                                                                               <span style=\"color: #008000; text-decoration-color: #008000\">│</span>\n",
       "<span style=\"color: #008000; text-decoration-color: #008000\">│</span>  <span style=\"color: #00ff00; text-decoration-color: #00ff00\">   - **Revisão Semanal**: Reserve um dia da semana para revisar o que aprendeu. Isso ajuda a fixar o conteúdo</span>  <span style=\"color: #008000; text-decoration-color: #008000\">│</span>\n",
       "<span style=\"color: #008000; text-decoration-color: #008000\">│</span>  <span style=\"color: #00ff00; text-decoration-color: #00ff00\">e identificar pontos fracos que precisam de mais atenção.  </span>                                                    <span style=\"color: #008000; text-decoration-color: #008000\">│</span>\n",
       "<span style=\"color: #008000; text-decoration-color: #008000\">│</span>  <span style=\"color: #00ff00; text-decoration-color: #00ff00\">   - **Revisão Final**: Nas duas últimas semanas antes da prova, foque em revisões intensivas. Não comece </span>     <span style=\"color: #008000; text-decoration-color: #008000\">│</span>\n",
       "<span style=\"color: #008000; text-decoration-color: #008000\">│</span>  <span style=\"color: #00ff00; text-decoration-color: #00ff00\">novos conteúdos nessa fase, mas revise tudo o que já estudou.</span>                                                  <span style=\"color: #008000; text-decoration-color: #008000\">│</span>\n",
       "<span style=\"color: #008000; text-decoration-color: #008000\">│</span>                                                                                                                 <span style=\"color: #008000; text-decoration-color: #008000\">│</span>\n",
       "<span style=\"color: #008000; text-decoration-color: #008000\">│</span>  <span style=\"color: #00ff00; text-decoration-color: #00ff00\">**7. Saúde Mental e Física**  </span>                                                                                 <span style=\"color: #008000; text-decoration-color: #008000\">│</span>\n",
       "<span style=\"color: #008000; text-decoration-color: #008000\">│</span>  <span style=\"color: #00ff00; text-decoration-color: #00ff00\">   - **Equilíbrio**: Não esqueça de cuidar da saúde mental e física. Reserve momentos para relaxar, praticar </span>  <span style=\"color: #008000; text-decoration-color: #008000\">│</span>\n",
       "<span style=\"color: #008000; text-decoration-color: #008000\">│</span>  <span style=\"color: #00ff00; text-decoration-color: #00ff00\">exercícios físicos e manter uma alimentação saudável.  </span>                                                        <span style=\"color: #008000; text-decoration-color: #008000\">│</span>\n",
       "<span style=\"color: #008000; text-decoration-color: #008000\">│</span>  <span style=\"color: #00ff00; text-decoration-color: #00ff00\">   - **Técnicas de Relaxamento**: Utilize técnicas de respiração ou meditação para reduzir a ansiedade, </span>       <span style=\"color: #008000; text-decoration-color: #008000\">│</span>\n",
       "<span style=\"color: #008000; text-decoration-color: #008000\">│</span>  <span style=\"color: #00ff00; text-decoration-color: #00ff00\">especialmente nos dias que antecedem a prova.</span>                                                                  <span style=\"color: #008000; text-decoration-color: #008000\">│</span>\n",
       "<span style=\"color: #008000; text-decoration-color: #008000\">│</span>                                                                                                                 <span style=\"color: #008000; text-decoration-color: #008000\">│</span>\n",
       "<span style=\"color: #008000; text-decoration-color: #008000\">│</span>  <span style=\"color: #00ff00; text-decoration-color: #00ff00\">**8. Dia da Prova**  </span>                                                                                          <span style=\"color: #008000; text-decoration-color: #008000\">│</span>\n",
       "<span style=\"color: #008000; text-decoration-color: #008000\">│</span>  <span style=\"color: #00ff00; text-decoration-color: #00ff00\">   - **Preparação Precedente**: Verifique toda documentação exigida, escolha uma roupa confortável e planeje </span>  <span style=\"color: #008000; text-decoration-color: #008000\">│</span>\n",
       "<span style=\"color: #008000; text-decoration-color: #008000\">│</span>  <span style=\"color: #00ff00; text-decoration-color: #00ff00\">sua ida ao local da prova com antecedência.  </span>                                                                  <span style=\"color: #008000; text-decoration-color: #008000\">│</span>\n",
       "<span style=\"color: #008000; text-decoration-color: #008000\">│</span>  <span style=\"color: #00ff00; text-decoration-color: #00ff00\">   - **Alimentação Leve**: No dia da prova, opte por uma alimentação leve e evite cafeína em excesso, que </span>     <span style=\"color: #008000; text-decoration-color: #008000\">│</span>\n",
       "<span style=\"color: #008000; text-decoration-color: #008000\">│</span>  <span style=\"color: #00ff00; text-decoration-color: #00ff00\">pode aumentar a ansiedade.</span>                                                                                     <span style=\"color: #008000; text-decoration-color: #008000\">│</span>\n",
       "<span style=\"color: #008000; text-decoration-color: #008000\">│</span>                                                                                                                 <span style=\"color: #008000; text-decoration-color: #008000\">│</span>\n",
       "<span style=\"color: #008000; text-decoration-color: #008000\">│</span>  <span style=\"color: #00ff00; text-decoration-color: #00ff00\">Seguindo essa estratégia estruturada de estudo, aumentando seu foco e aproveitando o tempo da melhor maneira </span>  <span style=\"color: #008000; text-decoration-color: #008000\">│</span>\n",
       "<span style=\"color: #008000; text-decoration-color: #008000\">│</span>  <span style=\"color: #00ff00; text-decoration-color: #00ff00\">possível, suas chances de ser aprovado no concurso do Ministério Público de Sergipe para o cargo de Técnico </span>   <span style=\"color: #008000; text-decoration-color: #008000\">│</span>\n",
       "<span style=\"color: #008000; text-decoration-color: #008000\">│</span>  <span style=\"color: #00ff00; text-decoration-color: #00ff00\">Administrativo serão significativamente aumentadas. Boa sorte!</span>                                                 <span style=\"color: #008000; text-decoration-color: #008000\">│</span>\n",
       "<span style=\"color: #008000; text-decoration-color: #008000\">│</span>                                                                                                                 <span style=\"color: #008000; text-decoration-color: #008000\">│</span>\n",
       "<span style=\"color: #008000; text-decoration-color: #008000\">╰─────────────────────────────────────────────────────────────────────────────────────────────────────────────────╯</span>\n",
       "</pre>\n"
      ],
      "text/plain": [
       "\u001b[32m╭─\u001b[0m\u001b[32m────────────────────────────────────────────\u001b[0m\u001b[32m ✅ Agent Final Answer \u001b[0m\u001b[32m────────────────────────────────────────────\u001b[0m\u001b[32m─╮\u001b[0m\n",
       "\u001b[32m│\u001b[0m                                                                                                                 \u001b[32m│\u001b[0m\n",
       "\u001b[32m│\u001b[0m  \u001b[37mAgent: \u001b[0m\u001b[1;92mPlanejador de estudos\u001b[0m                                                                                   \u001b[32m│\u001b[0m\n",
       "\u001b[32m│\u001b[0m                                                                                                                 \u001b[32m│\u001b[0m\n",
       "\u001b[32m│\u001b[0m  \u001b[37mFinal Answer:\u001b[0m                                                                                                  \u001b[32m│\u001b[0m\n",
       "\u001b[32m│\u001b[0m  \u001b[92m**Estratégia de Estudo para Concurso do Ministério Público de Sergipe - Cargo de Técnico Administrativo**\u001b[0m      \u001b[32m│\u001b[0m\n",
       "\u001b[32m│\u001b[0m                                                                                                                 \u001b[32m│\u001b[0m\n",
       "\u001b[32m│\u001b[0m  \u001b[92m**1. Entenda o Edital**  \u001b[0m                                                                                      \u001b[32m│\u001b[0m\n",
       "\u001b[32m│\u001b[0m  \u001b[92m   - **Leia com Atenção**: O primeiro passo é ler o edital com atenção. Anote todos os detalhes sobre as \u001b[0m      \u001b[32m│\u001b[0m\n",
       "\u001b[32m│\u001b[0m  \u001b[92mmatérias que serão cobradas, o número de questões, o formato da prova e o cronograma.  \u001b[0m                        \u001b[32m│\u001b[0m\n",
       "\u001b[32m│\u001b[0m  \u001b[92m   - **Requisitos do Cargo**: O cargo de Técnico Administrativo exige habilidades que envolvem tanto a parte \u001b[0m  \u001b[32m│\u001b[0m\n",
       "\u001b[32m│\u001b[0m  \u001b[92madministrativa quanto conhecimentos de direito, uma vez que as funções incluem serviços de analista de \u001b[0m        \u001b[32m│\u001b[0m\n",
       "\u001b[32m│\u001b[0m  \u001b[92mdireito.\u001b[0m                                                                                                       \u001b[32m│\u001b[0m\n",
       "\u001b[32m│\u001b[0m                                                                                                                 \u001b[32m│\u001b[0m\n",
       "\u001b[32m│\u001b[0m  \u001b[92m**2. Planejamento Geral**  \u001b[0m                                                                                    \u001b[32m│\u001b[0m\n",
       "\u001b[32m│\u001b[0m  \u001b[92m   - **Defina um Cronograma**: Com base na data da prova, elabore um cronograma de estudos que abranja todas \u001b[0m  \u001b[32m│\u001b[0m\n",
       "\u001b[32m│\u001b[0m  \u001b[92mas disciplinas. Divida seu tempo de estudo em blocos de 2 a 3 horas, com intervalos de 15 a 30 minutos entre \u001b[0m  \u001b[32m│\u001b[0m\n",
       "\u001b[32m│\u001b[0m  \u001b[92meles.  \u001b[0m                                                                                                        \u001b[32m│\u001b[0m\n",
       "\u001b[32m│\u001b[0m  \u001b[92m   - **Estudo Diário**: Reserve de 4 a 6 horas por dia para estudo efetivo, se possível. Se você estiver \u001b[0m      \u001b[32m│\u001b[0m\n",
       "\u001b[32m│\u001b[0m  \u001b[92mtrabalhando ou estudando em paralelo, ajuste o tempo de acordo.\u001b[0m                                                \u001b[32m│\u001b[0m\n",
       "\u001b[32m│\u001b[0m                                                                                                                 \u001b[32m│\u001b[0m\n",
       "\u001b[32m│\u001b[0m  \u001b[92m**3. Materiais de Estudo**  \u001b[0m                                                                                   \u001b[32m│\u001b[0m\n",
       "\u001b[32m│\u001b[0m  \u001b[92m   - **Livros e Apostilas**: Prefira materiais atualizados e específicos para o concurso do Ministério \u001b[0m        \u001b[32m│\u001b[0m\n",
       "\u001b[32m│\u001b[0m  \u001b[92mPúblico. Apostilas também podem ser úteis, principalmente aquelas que trazem questões comentadas.  \u001b[0m            \u001b[32m│\u001b[0m\n",
       "\u001b[32m│\u001b[0m  \u001b[92m   - **Videoaulas**: Utilize plataformas de ensino para videoaulas sobre direito administrativo, direito \u001b[0m      \u001b[32m│\u001b[0m\n",
       "\u001b[32m│\u001b[0m  \u001b[92mconstitucional e outras disciplinas necessárias.  \u001b[0m                                                             \u001b[32m│\u001b[0m\n",
       "\u001b[32m│\u001b[0m  \u001b[92m   - **Questões Anteriores**: Resolva questões de provas anteriores do Ministério Público e de outros \u001b[0m         \u001b[32m│\u001b[0m\n",
       "\u001b[32m│\u001b[0m  \u001b[92mconcursos públicos na área administrativa. Isso ajudará a familiarizar-se com o estilo das questões.\u001b[0m           \u001b[32m│\u001b[0m\n",
       "\u001b[32m│\u001b[0m                                                                                                                 \u001b[32m│\u001b[0m\n",
       "\u001b[32m│\u001b[0m  \u001b[92m**4. Disciplinas a Estudar**  \u001b[0m                                                                                 \u001b[32m│\u001b[0m\n",
       "\u001b[32m│\u001b[0m  \u001b[92m   - **Direito Administrativo e Constitucional**: Estas serão as disciplinas de maior peso. Foque em \u001b[0m          \u001b[32m│\u001b[0m\n",
       "\u001b[32m│\u001b[0m  \u001b[92mconceitos básicos, jurisprudência e princípios fundamentais.  \u001b[0m                                                 \u001b[32m│\u001b[0m\n",
       "\u001b[32m│\u001b[0m  \u001b[92m   - **Noções de Português**: Treine gramática, interpretação de texto e redação, pois a prova provavelmente \u001b[0m  \u001b[32m│\u001b[0m\n",
       "\u001b[32m│\u001b[0m  \u001b[92mincluirá questões de português.  \u001b[0m                                                                              \u001b[32m│\u001b[0m\n",
       "\u001b[32m│\u001b[0m  \u001b[92m   - **Raciocínio Lógico e Matemática**: Pratique problemas de lógica, análise de gráficos e tabelas, além de\u001b[0m  \u001b[32m│\u001b[0m\n",
       "\u001b[32m│\u001b[0m  \u001b[92massuntos básicos de matemática.  \u001b[0m                                                                              \u001b[32m│\u001b[0m\n",
       "\u001b[32m│\u001b[0m  \u001b[92m   - **Atualidades**: Esteja sempre atualizado com as notícias recentes, especialmente nas áreas \u001b[0m              \u001b[32m│\u001b[0m\n",
       "\u001b[32m│\u001b[0m  \u001b[92mpolítico-administrativas do Brasil.\u001b[0m                                                                            \u001b[32m│\u001b[0m\n",
       "\u001b[32m│\u001b[0m                                                                                                                 \u001b[32m│\u001b[0m\n",
       "\u001b[32m│\u001b[0m  \u001b[92m**5. Técnicas de Estudo**  \u001b[0m                                                                                    \u001b[32m│\u001b[0m\n",
       "\u001b[32m│\u001b[0m  \u001b[92m   - **Resumos e Mapas Mentais**: Faça resumos das matérias estudadas e crie mapas mentais para facilitar a \u001b[0m   \u001b[32m│\u001b[0m\n",
       "\u001b[32m│\u001b[0m  \u001b[92mmemorização dos conteúdos.   \u001b[0m                                                                                  \u001b[32m│\u001b[0m\n",
       "\u001b[32m│\u001b[0m  \u001b[92m   - **Simulados**: Realize simulados semanais para testar seu conhecimento e ajustar seu foco de estudo.  \u001b[0m    \u001b[32m│\u001b[0m\n",
       "\u001b[32m│\u001b[0m  \u001b[92m   - **Grupos de Estudo**: Se possível, participe de grupos de estudo para discutir dificuldades e trocar \u001b[0m     \u001b[32m│\u001b[0m\n",
       "\u001b[32m│\u001b[0m  \u001b[92mconhecimento, isso pode agregar muito no seu aprendizado.\u001b[0m                                                      \u001b[32m│\u001b[0m\n",
       "\u001b[32m│\u001b[0m                                                                                                                 \u001b[32m│\u001b[0m\n",
       "\u001b[32m│\u001b[0m  \u001b[92m**6. Revisão**  \u001b[0m                                                                                               \u001b[32m│\u001b[0m\n",
       "\u001b[32m│\u001b[0m  \u001b[92m   - **Revisão Semanal**: Reserve um dia da semana para revisar o que aprendeu. Isso ajuda a fixar o conteúdo\u001b[0m  \u001b[32m│\u001b[0m\n",
       "\u001b[32m│\u001b[0m  \u001b[92me identificar pontos fracos que precisam de mais atenção.  \u001b[0m                                                    \u001b[32m│\u001b[0m\n",
       "\u001b[32m│\u001b[0m  \u001b[92m   - **Revisão Final**: Nas duas últimas semanas antes da prova, foque em revisões intensivas. Não comece \u001b[0m     \u001b[32m│\u001b[0m\n",
       "\u001b[32m│\u001b[0m  \u001b[92mnovos conteúdos nessa fase, mas revise tudo o que já estudou.\u001b[0m                                                  \u001b[32m│\u001b[0m\n",
       "\u001b[32m│\u001b[0m                                                                                                                 \u001b[32m│\u001b[0m\n",
       "\u001b[32m│\u001b[0m  \u001b[92m**7. Saúde Mental e Física**  \u001b[0m                                                                                 \u001b[32m│\u001b[0m\n",
       "\u001b[32m│\u001b[0m  \u001b[92m   - **Equilíbrio**: Não esqueça de cuidar da saúde mental e física. Reserve momentos para relaxar, praticar \u001b[0m  \u001b[32m│\u001b[0m\n",
       "\u001b[32m│\u001b[0m  \u001b[92mexercícios físicos e manter uma alimentação saudável.  \u001b[0m                                                        \u001b[32m│\u001b[0m\n",
       "\u001b[32m│\u001b[0m  \u001b[92m   - **Técnicas de Relaxamento**: Utilize técnicas de respiração ou meditação para reduzir a ansiedade, \u001b[0m       \u001b[32m│\u001b[0m\n",
       "\u001b[32m│\u001b[0m  \u001b[92mespecialmente nos dias que antecedem a prova.\u001b[0m                                                                  \u001b[32m│\u001b[0m\n",
       "\u001b[32m│\u001b[0m                                                                                                                 \u001b[32m│\u001b[0m\n",
       "\u001b[32m│\u001b[0m  \u001b[92m**8. Dia da Prova**  \u001b[0m                                                                                          \u001b[32m│\u001b[0m\n",
       "\u001b[32m│\u001b[0m  \u001b[92m   - **Preparação Precedente**: Verifique toda documentação exigida, escolha uma roupa confortável e planeje \u001b[0m  \u001b[32m│\u001b[0m\n",
       "\u001b[32m│\u001b[0m  \u001b[92msua ida ao local da prova com antecedência.  \u001b[0m                                                                  \u001b[32m│\u001b[0m\n",
       "\u001b[32m│\u001b[0m  \u001b[92m   - **Alimentação Leve**: No dia da prova, opte por uma alimentação leve e evite cafeína em excesso, que \u001b[0m     \u001b[32m│\u001b[0m\n",
       "\u001b[32m│\u001b[0m  \u001b[92mpode aumentar a ansiedade.\u001b[0m                                                                                     \u001b[32m│\u001b[0m\n",
       "\u001b[32m│\u001b[0m                                                                                                                 \u001b[32m│\u001b[0m\n",
       "\u001b[32m│\u001b[0m  \u001b[92mSeguindo essa estratégia estruturada de estudo, aumentando seu foco e aproveitando o tempo da melhor maneira \u001b[0m  \u001b[32m│\u001b[0m\n",
       "\u001b[32m│\u001b[0m  \u001b[92mpossível, suas chances de ser aprovado no concurso do Ministério Público de Sergipe para o cargo de Técnico \u001b[0m   \u001b[32m│\u001b[0m\n",
       "\u001b[32m│\u001b[0m  \u001b[92mAdministrativo serão significativamente aumentadas. Boa sorte!\u001b[0m                                                 \u001b[32m│\u001b[0m\n",
       "\u001b[32m│\u001b[0m                                                                                                                 \u001b[32m│\u001b[0m\n",
       "\u001b[32m╰─────────────────────────────────────────────────────────────────────────────────────────────────────────────────╯\u001b[0m\n"
      ]
     },
     "metadata": {},
     "output_type": "display_data"
    },
    {
     "data": {
      "text/html": [
       "<pre style=\"white-space:pre;overflow-x:auto;line-height:normal;font-family:Menlo,'DejaVu Sans Mono',consolas,'Courier New',monospace\">\n",
       "</pre>\n"
      ],
      "text/plain": [
       "\n"
      ]
     },
     "metadata": {},
     "output_type": "display_data"
    }
   ],
   "source": [
    "result = concurso_crew.kickoff()"
   ]
  },
  {
   "cell_type": "code",
   "execution_count": 14,
   "id": "2860fbac",
   "metadata": {},
   "outputs": [
    {
     "name": "stdout",
     "output_type": "stream",
     "text": [
      "**Estimativa de Custo para Passar no Concurso do Ministério Público de Sergipe - Cargo de Técnico Administrativo**\n",
      "\n",
      "Para passar no concurso do Ministério Público de Sergipe, o planejamento e execução de um plano de estudo eficaz envolve uma série de despesas consideráveis. Vamos detalhar cada aspecto e estimar os custos associados.\n",
      "\n",
      "**1. Materiais de Estudo**  \n",
      "- **Livros e Apostilas**: Utilizar materiais atualizados é fundamental. Vamos considerar a compra de 5 livros/guides específicos sobre questões administrativas e de direito. Estimativa: R$ 500,00 (R$ 100,00 cada).  \n",
      "- **Videoaulas**: Assinatura de uma plataforma de videoaulas que oferece cursos voltados para o concurso. Estimativa: R$ 300,00 (O valor da mensalidade pode variar, mas consideremos 3 meses de acesso). \n",
      "\n",
      "**2. Simulados e Questões Anteriores**  \n",
      "- **Acesso a Banco de Questões**: Acesso a um site que disponibiliza questões anteriores, que são fundamentais para a prática. Estimativa: R$ 200,00 (associação anual ou pacotes específicos). \n",
      "\n",
      "**3. Cronograma de Estudo**  \n",
      "- **Planejamento**: Gastos menores, mas considere a necessidade de uma agenda ou aplicativo premium para controle do tempo e tarefas. Estimativa: R$ 50,00.\n",
      "\n",
      "**4. Grupos de Estudo**  \n",
      "- **Networking e Troca de Conhecimento**: Inicialmente, participe de grupos gratuitos, mas pode ser necessário investir em um curso de preparação ou workshop. Estimativa: R$ 200,00 (cursos de curta duração ou eventos).\n",
      "\n",
      "**5. Material de Escritório**  \n",
      "- **Cadernos, Canetas, Lápis, etc.**: Para anotações, resumos e mapas mentais. Estimativa: R$ 100,00.\n",
      "\n",
      "**6. Saúde Mental e Física**  \n",
      "- **Atividades Físicas e Relaxamento**: Considerando a prática de esportes e técnicas de relaxamento como meditação ou yoga. Estimativa: R$ 300,00 (aula mensal por 3 meses).\n",
      "\n",
      "**7. Alimentação e Preparação para o Dia da Prova**  \n",
      "- **Snacks e Alimentação Saudável**: No dia da prova, uma alimentação leve é recomendada. Prepare-se com alguns lanches. Estimativa: R$ 50,00.  \n",
      "- **Área de Conclusão**: Considere o transporte e eventualmente um hotel, se necessário. Estimativa de R$ 150,00.\n",
      "\n",
      "**Resumo dos Custos**  \n",
      "- Materiais de Estudo (Livros, Videoaulas e Questões): R$ 1.000,00  \n",
      "- Planejamento e Cronograma: R$ 50,00  \n",
      "- Grupos de Estudo e Networking: R$ 200,00  \n",
      "- Material de Escritório: R$ 100,00  \n",
      "- Saúde e Atividade Física: R$ 300,00  \n",
      "- Alimentação e Dia da Prova: R$ 200,00\n",
      "\n",
      "**Total Estimado**: R$ 1.900,00\n",
      "\n",
      "Com esses investimentos, além do comprometimento diário e da aplicação das técnicas de estudo recomendadas, suas chances de sucesso no concurso aumentam consideravelmente. Boa sorte na sua jornada!\n"
     ]
    }
   ],
   "source": [
    "print(result.raw)"
   ]
  },
  {
   "cell_type": "code",
   "execution_count": null,
   "id": "69367e20",
   "metadata": {},
   "outputs": [],
   "source": []
  }
 ],
 "metadata": {
  "kernelspec": {
   "display_name": ".venv",
   "language": "python",
   "name": "python3"
  },
  "language_info": {
   "codemirror_mode": {
    "name": "ipython",
    "version": 3
   },
   "file_extension": ".py",
   "mimetype": "text/x-python",
   "name": "python",
   "nbconvert_exporter": "python",
   "pygments_lexer": "ipython3",
   "version": "3.12.10"
  }
 },
 "nbformat": 4,
 "nbformat_minor": 5
}
